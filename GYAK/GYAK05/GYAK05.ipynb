{
 "cells": [
  {
   "cell_type": "code",
   "execution_count": 25,
   "metadata": {},
   "outputs": [],
   "source": [
    "import numpy as np\n",
    "from typing import Tuple\n",
    "from scipy.stats import mode\n",
    "\n",
    "from sklearn.metrics import confusion_matrix\n",
    "import seaborn as sns\n",
    "\n",
    "csv_path = 'iris.csv'"
   ]
  },
  {
   "cell_type": "code",
   "execution_count": 18,
   "metadata": {},
   "outputs": [
    {
     "name": "stdout",
     "output_type": "stream",
     "text": [
      "Defaulting to user installation because normal site-packages is not writeable\n",
      "Collecting seaborn\n",
      "  Downloading seaborn-0.12.2-py3-none-any.whl (293 kB)\n",
      "\u001b[K     |████████████████████████████████| 293 kB 1.4 MB/s eta 0:00:01\n",
      "\u001b[?25hRequirement already satisfied: matplotlib!=3.6.1,>=3.1 in /Users/wellerzoltan/Library/Python/3.9/lib/python/site-packages (from seaborn) (3.7.1)\n",
      "Requirement already satisfied: numpy!=1.24.0,>=1.17 in /Users/wellerzoltan/Library/Python/3.9/lib/python/site-packages (from seaborn) (1.24.2)\n",
      "Requirement already satisfied: pandas>=0.25 in /Users/wellerzoltan/Library/Python/3.9/lib/python/site-packages (from seaborn) (1.5.3)\n",
      "Requirement already satisfied: pyparsing>=2.3.1 in /Users/wellerzoltan/Library/Python/3.9/lib/python/site-packages (from matplotlib!=3.6.1,>=3.1->seaborn) (3.0.9)\n",
      "Requirement already satisfied: python-dateutil>=2.7 in /Users/wellerzoltan/Library/Python/3.9/lib/python/site-packages (from matplotlib!=3.6.1,>=3.1->seaborn) (2.8.2)\n",
      "Requirement already satisfied: contourpy>=1.0.1 in /Users/wellerzoltan/Library/Python/3.9/lib/python/site-packages (from matplotlib!=3.6.1,>=3.1->seaborn) (1.0.7)\n",
      "Requirement already satisfied: importlib-resources>=3.2.0 in /Users/wellerzoltan/Library/Python/3.9/lib/python/site-packages (from matplotlib!=3.6.1,>=3.1->seaborn) (5.12.0)\n",
      "Requirement already satisfied: packaging>=20.0 in /Users/wellerzoltan/Library/Python/3.9/lib/python/site-packages (from matplotlib!=3.6.1,>=3.1->seaborn) (23.0)\n",
      "Requirement already satisfied: cycler>=0.10 in /Users/wellerzoltan/Library/Python/3.9/lib/python/site-packages (from matplotlib!=3.6.1,>=3.1->seaborn) (0.11.0)\n",
      "Requirement already satisfied: pillow>=6.2.0 in /Users/wellerzoltan/Library/Python/3.9/lib/python/site-packages (from matplotlib!=3.6.1,>=3.1->seaborn) (9.4.0)\n",
      "Requirement already satisfied: kiwisolver>=1.0.1 in /Users/wellerzoltan/Library/Python/3.9/lib/python/site-packages (from matplotlib!=3.6.1,>=3.1->seaborn) (1.4.4)\n",
      "Requirement already satisfied: fonttools>=4.22.0 in /Users/wellerzoltan/Library/Python/3.9/lib/python/site-packages (from matplotlib!=3.6.1,>=3.1->seaborn) (4.39.2)\n",
      "Requirement already satisfied: zipp>=3.1.0 in /Users/wellerzoltan/Library/Python/3.9/lib/python/site-packages (from importlib-resources>=3.2.0->matplotlib!=3.6.1,>=3.1->seaborn) (3.15.0)\n",
      "Requirement already satisfied: pytz>=2020.1 in /Users/wellerzoltan/Library/Python/3.9/lib/python/site-packages (from pandas>=0.25->seaborn) (2022.7.1)\n",
      "Requirement already satisfied: six>=1.5 in /Applications/Xcode.app/Contents/Developer/Library/Frameworks/Python3.framework/Versions/3.9/lib/python3.9/site-packages (from python-dateutil>=2.7->matplotlib!=3.6.1,>=3.1->seaborn) (1.15.0)\n",
      "Installing collected packages: seaborn\n",
      "Successfully installed seaborn-0.12.2\n",
      "\u001b[33mWARNING: You are using pip version 21.2.4; however, version 23.0.1 is available.\n",
      "You should consider upgrading via the '/Applications/Xcode.app/Contents/Developer/usr/bin/python3 -m pip install --upgrade pip' command.\u001b[0m\n",
      "Note: you may need to restart the kernel to use updated packages.\n"
     ]
    }
   ],
   "source": [
    "#pip install seaborn"
   ]
  },
  {
   "cell_type": "code",
   "execution_count": 26,
   "metadata": {},
   "outputs": [],
   "source": [
    "def load_csv(csv_path: str) -> Tuple[np.ndarray, np.ndarray]:\n",
    "    np.random.seed(42)\n",
    "    dataset = np.genfromtxt(csv_path, delimiter=',')\n",
    "    np.random.shuffle(dataset)\n",
    "    x,y = dataset[:,:-1], dataset[:, -1]\n",
    "    return x,y"
   ]
  },
  {
   "cell_type": "code",
   "execution_count": 27,
   "metadata": {},
   "outputs": [
    {
     "data": {
      "text/plain": [
       "((150, 4), (150,))"
      ]
     },
     "execution_count": 27,
     "metadata": {},
     "output_type": "execute_result"
    }
   ],
   "source": [
    "x,y = load_csv(csv_path)\n",
    "\n",
    "x.shape, y.shape"
   ]
  },
  {
   "cell_type": "code",
   "execution_count": 6,
   "metadata": {},
   "outputs": [
    {
     "data": {
      "text/plain": [
       "(array([nan, nan, nan, nan]), array([nan, nan, nan, nan]))"
      ]
     },
     "execution_count": 6,
     "metadata": {},
     "output_type": "execute_result"
    }
   ],
   "source": [
    "np.mean(x, axis=0),np.var(x, axis=0)"
   ]
  },
  {
   "cell_type": "code",
   "execution_count": 7,
   "metadata": {},
   "outputs": [
    {
     "data": {
      "text/plain": [
       "(array([ 355.46503497, -280.09189189,    2.95      ,   21.74726027]),\n",
       " array([1.73561968e+07, 1.18405444e+07, 1.51049922e+04, 6.11729208e+04]))"
      ]
     },
     "execution_count": 7,
     "metadata": {},
     "output_type": "execute_result"
    }
   ],
   "source": [
    "np.nanmean(x, axis=0),np.nanvar(x, axis=0)"
   ]
  },
  {
   "cell_type": "code",
   "execution_count": 28,
   "metadata": {},
   "outputs": [],
   "source": [
    "x[np.isnan(x)] = 3.5"
   ]
  },
  {
   "cell_type": "code",
   "execution_count": 29,
   "metadata": {},
   "outputs": [
    {
     "data": {
      "text/plain": [
       "((144, 4), (144,))"
      ]
     },
     "execution_count": 29,
     "metadata": {},
     "output_type": "execute_result"
    }
   ],
   "source": [
    "y = np.delete(y, np.where(x < 0.0)[0], axis=0)\n",
    "y = np.delete(y, np.where(x > 10.0)[0], axis=0)\n",
    "x = np.delete(x, np.where(x < 0.0)[0], axis=0)\n",
    "x = np.delete(x, np.where(x > 10.0)[0], axis=0)\n",
    "\n",
    "x.shape,y.shape"
   ]
  },
  {
   "cell_type": "code",
   "execution_count": 30,
   "metadata": {},
   "outputs": [],
   "source": [
    "def train_test_split(features: np.ndarray,\n",
    "                     labels: np.ndarray,\n",
    "                     test_plit_ratio: float) -> Tuple[np.ndarray, np.ndarray, np.ndarray, np.ndarray]:\n",
    "    test_size = int(len(features) * test_plit_ratio)\n",
    "    train_size = len(features) - test_size\n",
    "    assert len(features) == test_size + train_size, \"Size mismatch!\"\n",
    "\n",
    "    x_train,y_train = features[:train_size,:],labels[:train_size]\n",
    "    x_test,y_test = features[train_size:train_size+test_size,:], labels[train_size:train_size + test_size]\n",
    "\n",
    "    return x_train,y_train,x_test,y_test"
   ]
  },
  {
   "cell_type": "code",
   "execution_count": 31,
   "metadata": {},
   "outputs": [],
   "source": [
    "x_train,y_train,x_test,y_test = train_test_split(x, y, 0.2)"
   ]
  },
  {
   "cell_type": "code",
   "execution_count": 32,
   "metadata": {},
   "outputs": [],
   "source": [
    "def euclidean(points:np.ndarray, element_of_x:np.ndarray) -> np.ndarray:\n",
    "    return np.sqrt(np.sum((points - element_of_x)**2, axis=1))"
   ]
  },
  {
   "cell_type": "code",
   "execution_count": 36,
   "metadata": {},
   "outputs": [
    {
     "data": {
      "text/plain": [
       "array([3.89615195, 1.96214169, 6.75943785, 3.78021163, 1.43874946,\n",
       "       2.80356915, 4.98397432, 3.81837662, 3.06920185, 4.70531614,\n",
       "       0.79372539, 2.7       , 0.93808315, 4.18210473, 5.3244718 ,\n",
       "       2.94108823, 4.66154481, 5.21056619, 0.97467943, 4.27317212,\n",
       "       1.2489996 , 5.05865595, 6.53528882, 4.95378643, 5.23259018,\n",
       "       0.91104336, 1.34164079, 2.42899156, 4.03732585, 1.51986842,\n",
       "       0.91104336, 4.41927596, 4.01248053, 1.40712473, 1.4       ,\n",
       "       1.95192213, 4.34165867, 3.92300905, 4.29883705, 1.83847763,\n",
       "       1.67928556, 2.69443872, 4.40113622, 4.9132474 , 3.96484552,\n",
       "       6.07124369, 3.34813381, 6.43661402, 3.62904946, 1.34907376,\n",
       "       6.52226954, 3.19061123, 1.3114877 , 1.3       , 1.72626765,\n",
       "       2.38117618, 4.31393092, 1.2922848 , 1.4832397 , 2.68514432,\n",
       "       1.27279221, 3.33916157, 6.72755528, 0.91651514, 3.64005494,\n",
       "       4.24970587, 2.15174348, 5.02294734, 4.34165867, 3.1685959 ,\n",
       "       3.60277671, 4.79791621, 3.04795013, 3.71079506, 2.17715411,\n",
       "       4.72546294, 1.12694277, 1.03923048, 2.81069386, 4.580393  ,\n",
       "       0.93808315, 4.55960525, 1.22882057, 1.36747943, 4.15571895,\n",
       "       1.98242276, 5.47083175, 4.30581003, 4.72757866, 6.14573023,\n",
       "       3.05450487, 0.6244998 , 0.78102497, 4.17013189, 5.69561235,\n",
       "       0.83666003, 1.3453624 , 0.71414284, 4.20475921, 5.22972275,\n",
       "       1.10905365, 5.16333226, 5.58300994, 0.92736185, 3.96106046,\n",
       "       4.07185461, 4.2       , 4.45308882, 4.94165964, 1.64620776,\n",
       "       5.14295635, 3.50713558, 4.75289386, 4.07553677, 2.93598365,\n",
       "       3.68646172])"
      ]
     },
     "execution_count": 36,
     "metadata": {},
     "output_type": "execute_result"
    }
   ],
   "source": [
    "euclidean(x_train, x_test[0])\n",
    "#x_test[0]"
   ]
  },
  {
   "cell_type": "code",
   "execution_count": 14,
   "metadata": {},
   "outputs": [],
   "source": [
    "def predict(x_train: np.ndarray,\n",
    "            y_train:np.ndarray,\n",
    "            x_test:np.ndarray,\n",
    "            k:int) -> np.ndarray:\n",
    "    labels_pred = [];\n",
    "    for x_test_element in x_test:\n",
    "        distances = euclidean(x_train, x_test_element)\n",
    "        distances = np.array(sorted(zip(distances, y_train)))\n",
    "\n",
    "        label_pred = mode(distances[:k,1], keepdims=False).mode\n",
    "        labels_pred.append(label_pred)\n",
    "\n",
    "    return np.array(labels_pred,dtype=np.int64)"
   ]
  },
  {
   "cell_type": "code",
   "execution_count": 22,
   "metadata": {},
   "outputs": [],
   "source": [
    "y_preds = predict(x_train, y_train, x_test, 3)\n"
   ]
  },
  {
   "cell_type": "code",
   "execution_count": 38,
   "metadata": {},
   "outputs": [
    {
     "data": {
      "text/plain": [
       "array([ True,  True,  True,  True,  True,  True,  True,  True,  True,\n",
       "        True,  True,  True, False,  True,  True,  True,  True,  True,\n",
       "        True,  True, False,  True,  True,  True, False,  True,  True,\n",
       "        True])"
      ]
     },
     "execution_count": 38,
     "metadata": {},
     "output_type": "execute_result"
    }
   ],
   "source": [
    "def accuracy(y_test:np.ndarray, y_preds:np.ndarray) -> float:\n",
    "    true_positive = (y_test == y_preds).sum()\n",
    "    return true_positive/len(y_test) * 100\n",
    "\n",
    "accuracy(y_test, y_preds)"
   ]
  },
  {
   "cell_type": "code",
   "execution_count": null,
   "metadata": {},
   "outputs": [],
   "source": [
    "def plot_confusion_matrix(y_test:np.ndarray, y_preds:np.ndarray):\n",
    "    conf_matrix = confusion_matrix(y_test,y_preds)\n",
    "    return sns.heatmap(conf_matrix, annot=True)\n",
    "\n"
   ]
  }
 ],
 "metadata": {
  "kernelspec": {
   "display_name": "Python 3",
   "language": "python",
   "name": "python3"
  },
  "language_info": {
   "codemirror_mode": {
    "name": "ipython",
    "version": 3
   },
   "file_extension": ".py",
   "mimetype": "text/x-python",
   "name": "python",
   "nbconvert_exporter": "python",
   "pygments_lexer": "ipython3",
   "version": "3.9.6"
  },
  "orig_nbformat": 4
 },
 "nbformat": 4,
 "nbformat_minor": 2
}
