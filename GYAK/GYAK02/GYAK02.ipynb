{
 "cells": [
  {
   "cell_type": "code",
   "execution_count": 1,
   "metadata": {},
   "outputs": [],
   "source": [
    "import numpy as np"
   ]
  },
  {
   "cell_type": "code",
   "execution_count": null,
   "metadata": {},
   "outputs": [],
   "source": [
    "#FONTOS!!!\n",
    "\n",
    "# CSAK OTT LEHET HASZNÁLNI FOR LOOP-OT AHOL A FELADAT KÜLÖN KÉRI!\n",
    "# [1,2,3,4] --> ezek az értékek np.array-ek. Ahol listát kérek paraméterként ott külön ki fogom emelni!\n",
    "# Ha végeztél a feladatokkal, akkor notebook-ot alakítsd át .py.\n",
    "# A FÁJLBAN CSAK A FÜGGVÉNYEK LEGYENEK! (KOMMENTEK MARADHATNAK)"
   ]
  },
  {
   "cell_type": "code",
   "execution_count": null,
   "metadata": {},
   "outputs": [],
   "source": [
    "#Készíts egy függvényt ami létre hoz egy nullákkal teli numpy array-t.\n",
    "#Paraméterei: mérete (tuple-ként), default mérete pedig legyen egy (2,2)\n",
    "#Be: (2,2)\n",
    "#Ki: [[0,0],[0,0]]\n",
    "#create_array()"
   ]
  },
  {
   "cell_type": "code",
   "execution_count": 9,
   "metadata": {},
   "outputs": [
    {
     "name": "stdout",
     "output_type": "stream",
     "text": [
      "<class 'numpy.ndarray'>\n"
     ]
    }
   ],
   "source": [
    "def create_array(array_size = (2, 2)):\n",
    "    return np.zeros_like([0],shape=array_size)\n",
    "\n",
    "#print(create_array((3, 2, 3)))\n",
    "#print(type(create_array((3, 2, 3))))"
   ]
  },
  {
   "cell_type": "code",
   "execution_count": null,
   "metadata": {},
   "outputs": [],
   "source": [
    "#Készíts egy függvényt ami a paraméterként kapott array-t főátlóját feltölti egyesekkel\n",
    "#Be: [[1,2],[3,4]]\n",
    "#Ki: [[1,2],[3,1]]\n",
    "#set_one()"
   ]
  },
  {
   "cell_type": "code",
   "execution_count": 14,
   "metadata": {},
   "outputs": [
    {
     "name": "stdout",
     "output_type": "stream",
     "text": [
      "[[1 2]\n",
      " [3 1]]\n"
     ]
    }
   ],
   "source": [
    "def set_one(input_array):\n",
    "    np.fill_diagonal(a=input_array, val=1)\n",
    "    return input_array\n",
    "\n",
    "#print(set_one(np.array([[1,2],[3,4]])))\n"
   ]
  },
  {
   "cell_type": "code",
   "execution_count": null,
   "metadata": {},
   "outputs": [],
   "source": [
    "# Készíts egy függvényt ami transzponálja a paraméterül kapott mártix-ot:\n",
    "# Be: [[1, 2], [3, 4]]\n",
    "# Ki: [[1, 3], [2, 4]]\n",
    "# do_transpose()"
   ]
  },
  {
   "cell_type": "code",
   "execution_count": 15,
   "metadata": {},
   "outputs": [
    {
     "name": "stdout",
     "output_type": "stream",
     "text": [
      "[[1 3]\n",
      " [2 4]]\n"
     ]
    }
   ],
   "source": [
    "def do_transpose(input_array):\n",
    "    return np.transpose(input_array)\n",
    "\n",
    "#print(do_transpose(np.array([[1,2],[3,4]])))"
   ]
  },
  {
   "cell_type": "code",
   "execution_count": null,
   "metadata": {},
   "outputs": [],
   "source": [
    "# Készíts egy olyan függvényt ami az array-ben lévő értékeket N tizenedjegyik kerekíti, ha nincs megadva ez a paraméter, akkor legyen az alapértelmezett a kettő \n",
    "# Be: [0.1223, 0.1675], 2\n",
    "# Ki: [0.12, 0.17]\n",
    "# round_array()"
   ]
  },
  {
   "cell_type": "code",
   "execution_count": 21,
   "metadata": {},
   "outputs": [
    {
     "name": "stdout",
     "output_type": "stream",
     "text": [
      "[0.122 0.168]\n"
     ]
    }
   ],
   "source": [
    "def round_array(input_array, n = 2):\n",
    "    return np.around(input_array, n)\n",
    "\n",
    "#print(round_array(np.array([0.1223, 0.1675]), 3))"
   ]
  },
  {
   "cell_type": "code",
   "execution_count": null,
   "metadata": {},
   "outputs": [],
   "source": [
    "# Készíts egy olyan függvényt, ami a bementként kapott 0 és 1 ből álló tömben a 0 - False-ra, az 1 True-ra cserélni\n",
    "# Be: [[1, 0, 0], [1, 1, 1],[0, 0, 0]]\n",
    "# Ki: [[ True False False], [ True  True  True], [False False False]]\n",
    "# bool_array()"
   ]
  },
  {
   "cell_type": "code",
   "execution_count": 22,
   "metadata": {},
   "outputs": [
    {
     "name": "stdout",
     "output_type": "stream",
     "text": [
      "[[ True False False]\n",
      " [ True  True  True]\n",
      " [False False False]]\n"
     ]
    }
   ],
   "source": [
    "def bool_array(input_array):\n",
    "    return input_array.astype(bool)\n",
    "\n",
    "#print(bool_array(np.array([[1, 0, 0], [1, 1, 1],[0, 0, 0]])))"
   ]
  },
  {
   "cell_type": "code",
   "execution_count": null,
   "metadata": {},
   "outputs": [],
   "source": [
    "# Készíts egy olyan függvényt, ami a bementként kapott 0 és 1 ből álló tömben a 1 - False-ra az 0 True-ra cserélni\n",
    "# Be: [[1, 0, 0], [1, 1, 1],[0, 0, 0]]\n",
    "# Ki: [[ False True True], [ False  False  False], [True True True]]\n",
    "# invert_bool_array()"
   ]
  },
  {
   "cell_type": "code",
   "execution_count": 23,
   "metadata": {},
   "outputs": [
    {
     "name": "stdout",
     "output_type": "stream",
     "text": [
      "[[False  True  True]\n",
      " [False False False]\n",
      " [ True  True  True]]\n"
     ]
    }
   ],
   "source": [
    "def invert_bool_array(input_array):\n",
    "    return np.invert(input_array.astype(bool))\n",
    "\n",
    "#print(invert_bool_array(np.array([[1, 0, 0], [1, 1, 1],[0, 0, 0]])))"
   ]
  },
  {
   "cell_type": "code",
   "execution_count": null,
   "metadata": {},
   "outputs": [],
   "source": [
    "# Készíts egy olyan függvényt ami a paraméterként kapott array-t kilapítja\n",
    "# Be: [[1,2], [3,4]]\n",
    "# Ki: [1,2,3,4]\n",
    "# flatten()\n"
   ]
  },
  {
   "cell_type": "code",
   "execution_count": 25,
   "metadata": {},
   "outputs": [
    {
     "name": "stdout",
     "output_type": "stream",
     "text": [
      "[1 2 3 4]\n"
     ]
    }
   ],
   "source": [
    "def flatten(input_array):\n",
    "    return input_array.reshape(-1)\n",
    "\n",
    "#print(flatten(np.array([[1,2], [3,4]])))"
   ]
  }
 ],
 "metadata": {
  "kernelspec": {
   "display_name": "Python 3",
   "language": "python",
   "name": "python3"
  },
  "language_info": {
   "codemirror_mode": {
    "name": "ipython",
    "version": 3
   },
   "file_extension": ".py",
   "mimetype": "text/x-python",
   "name": "python",
   "nbconvert_exporter": "python",
   "pygments_lexer": "ipython3",
   "version": "3.9.6"
  },
  "orig_nbformat": 4
 },
 "nbformat": 4,
 "nbformat_minor": 2
}
